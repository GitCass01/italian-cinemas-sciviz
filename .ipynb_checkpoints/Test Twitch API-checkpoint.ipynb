{
 "cells": [
  {
   "cell_type": "code",
   "execution_count": null,
   "id": "6e5435bc",
   "metadata": {},
   "outputs": [],
   "source": []
  },
  {
   "cell_type": "code",
   "execution_count": null,
   "id": "9ce8490b",
   "metadata": {},
   "outputs": [],
   "source": [
    "client_id = \"xvn5rpe5504zgl79cop5sijpfow8vt\"\n",
    "secret = \"6nny680gkmcbio24x0345qgoni431d\""
   ]
  }
 ],
 "metadata": {
  "kernelspec": {
   "display_name": "Python 3 (ipykernel)",
   "language": "python",
   "name": "python3"
  },
  "language_info": {
   "codemirror_mode": {
    "name": "ipython",
    "version": 3
   },
   "file_extension": ".py",
   "mimetype": "text/x-python",
   "name": "python",
   "nbconvert_exporter": "python",
   "pygments_lexer": "ipython3",
   "version": "3.10.2"
  }
 },
 "nbformat": 4,
 "nbformat_minor": 5
}
